{
  "nbformat": 4,
  "nbformat_minor": 0,
  "metadata": {
    "colab": {
      "provenance": [],
      "authorship_tag": "ABX9TyPj+IXYeWf8pvA2lujKdf1h",
      "include_colab_link": true
    },
    "kernelspec": {
      "name": "python3",
      "display_name": "Python 3"
    },
    "language_info": {
      "name": "python"
    }
  },
  "cells": [
    {
      "cell_type": "markdown",
      "metadata": {
        "id": "view-in-github",
        "colab_type": "text"
      },
      "source": [
        "<a href=\"https://colab.research.google.com/github/akshaybroota/learning-backpropagation/blob/main/re_implementing_micro_grad.ipynb\" target=\"_parent\"><img src=\"https://colab.research.google.com/assets/colab-badge.svg\" alt=\"Open In Colab\"/></a>"
      ]
    },
    {
      "cell_type": "markdown",
      "source": [
        "\n",
        "\n",
        "```\n",
        "# This is formatted as code\n"
      ],
      "metadata": {
        "id": "txsTr1bU179q"
      }
    },
    {
      "cell_type": "code",
      "source": [
        "import math\n",
        "import random\n",
        "import numpy as np\n",
        "import matplotlib.pyplot as plt\n",
        "from sklearn import datasets\n",
        "from sklearn.model_selection import train_test_split\n",
        "%matplotlib inline"
      ],
      "metadata": {
        "id": "DTdN6Bfg2vdO"
      },
      "execution_count": 48,
      "outputs": []
    },
    {
      "cell_type": "code",
      "source": [
        "#Creating karpathy@'s micro-grad engine using tanh vs reLU\n",
        "\n",
        "class Value:\n",
        "\n",
        "  def __init__(self, data, _children=(), _op='', label=''):\n",
        "    self.data = data\n",
        "    self.grad = 0.0\n",
        "    self._prev = set(_children)\n",
        "    self._backward = lambda : None\n",
        "    self._op = _op\n",
        "    self.label = label\n",
        "\n",
        "  def __repr__(self):\n",
        "    return f\"Value(data={self.data})\"\n",
        "\n",
        "  def __add__(self, other):\n",
        "    other = other if isinstance(other, Value) else Value(other)\n",
        "    out = Value(self.data + other.data, (self, other), '+')\n",
        "\n",
        "    def _backward():\n",
        "      self.grad += 1 * out.grad\n",
        "      other.grad += 1* out.grad\n",
        "    out._backward = _backward\n",
        "\n",
        "    return out\n",
        "\n",
        "  def __neg__(self):\n",
        "    return self * -1\n",
        "\n",
        "  def __radd__(self, other):\n",
        "    return self + other\n",
        "\n",
        "  def __sub__(self, other):\n",
        "    return self + (-other)\n",
        "\n",
        "  def __rsub__(self, other):\n",
        "    return other + (-self)\n",
        "\n",
        "  def __truediv__(self, other): # self / other\n",
        "    return self * other**-1\n",
        "\n",
        "  def __rtruediv__(self, other): # other / self\n",
        "    return other * self**-1\n",
        "\n",
        "  def __mul__(self, other):\n",
        "    other = other if isinstance(other, Value) else Value(other)\n",
        "    out = Value(self.data * other.data, (self, other), '*')\n",
        "\n",
        "    def _backward():\n",
        "      self.grad += other.data * out.grad\n",
        "      other.grad += self.data * out.grad\n",
        "    out._backward = _backward\n",
        "\n",
        "    return out\n",
        "\n",
        "  def __rmul__(self, other):\n",
        "    return self * other\n",
        "\n",
        "  def __pow__(self, other):\n",
        "\n",
        "    assert isinstance(other, (int, float))\n",
        "    out = Value(self.data**other, (self,), f'**{other}')\n",
        "\n",
        "    def _backward():\n",
        "      self.grad += (other * self.data**(other-1)) * out.grad\n",
        "    out._backward = _backward\n",
        "\n",
        "    return out\n",
        "\n",
        "  def relu(self):\n",
        "    out = Value(0 if self.data < 0 else self.data, (self,), 'ReLU')\n",
        "\n",
        "    def _backward():\n",
        "      self.grad = (out.data > 0) * out.grad\n",
        "    out._backward = _backward\n",
        "\n",
        "    return out\n",
        "\n",
        "  def tanh(self):\n",
        "    x = self.data\n",
        "    t = (math.exp(2*x) - 1) / (math.exp(2*x) + 1)\n",
        "    out = Value(t, (self, ), 'tanh')\n",
        "\n",
        "    def _backward():\n",
        "      self.grad = (1 - t**2) * out.grad\n",
        "    out._backward = _backward\n",
        "\n",
        "    return out\n",
        "\n",
        "  def backward(self):\n",
        "    topo = []\n",
        "    visited = set()\n",
        "    def build_topo(v):\n",
        "      if v not in visited:\n",
        "        visited.add(v)\n",
        "        for child in v._prev:\n",
        "          build_topo(child)\n",
        "        topo.append(v)\n",
        "    build_topo(self)\n",
        "\n",
        "    self.grad = 1.0\n",
        "    for node in reversed(topo):\n",
        "      node._backward()\n"
      ],
      "metadata": {
        "id": "CWm3v9K840p1"
      },
      "execution_count": 45,
      "outputs": []
    },
    {
      "cell_type": "code",
      "source": [
        "#creating PyTorch like Neural Net library based on Karpathy@'s micro-grad lib\n",
        "\n",
        "class Neuron:\n",
        "  def __init__(self, nin):\n",
        "    self.w = [Value(random.uniform(-1, 1)) for _ in range(nin)]\n",
        "    self.b = Value(random.uniform(-1, 1))\n",
        "\n",
        "  def __call__(self, x):\n",
        "    act = sum((wi*xi for wi, xi in zip(self.w, x)), self.b)\n",
        "    out = act.tanh()\n",
        "    return out\n",
        "\n",
        "  def parameters(self):\n",
        "    return self.w + [self.b]\n",
        "\n",
        "class Layer:\n",
        "  def __init__(self, nin, nout):\n",
        "    self.neurons = [Neuron(nin) for _ in range(nout)]\n",
        "\n",
        "  def __call__(self, x):\n",
        "    outs = [n(x) for n in self.neurons]\n",
        "    return outs[0] if len(outs) == 1 else outs\n",
        "\n",
        "  def parameters(self):\n",
        "    return [p for neuron in self.neurons for p in neuron.parameters()]\n",
        "\n",
        "class MLP:\n",
        "  def __init__(self, nin, nouts):\n",
        "    sz = [nin] + nouts\n",
        "    self.layers = [Layer(sz[i], sz[i+1]) for i in range(len(nouts))]\n",
        "\n",
        "  def __call__(self, x):\n",
        "    for layer in self.layers:\n",
        "      x = layer(x)\n",
        "    return x\n",
        "\n",
        "  def parameters(self):\n",
        "    return [p for layer in self.layers for p in layer.parameters()]"
      ],
      "metadata": {
        "id": "bw8C36wj02Ts"
      },
      "execution_count": 49,
      "outputs": []
    },
    {
      "cell_type": "code",
      "source": [
        "# Load the Iris dataset\n",
        "iris = datasets.load_iris()\n",
        "X = iris.data\n",
        "y = iris.target\n",
        "\n",
        "# Convert to a binary classification problem (Iris-setosa vs. not Iris-setosa)\n",
        "X = X[y != 2]\n",
        "y = y[y != 2]\n",
        "y[y == 0] = 0\n",
        "y[y == 1] = 1\n",
        "\n",
        "# Split into training and test sets\n",
        "X_train, X_test, y_train, y_test = train_test_split(X, y, test_size=0.2, random_state=42)\n",
        "\n",
        "#Normalization\n",
        "mean = np.mean(X_train, axis=0)\n",
        "std = np.std(X_train, axis=0)\n",
        "X_train = (X_train - mean) / std\n",
        "X_test = (X_test - mean) / std\n",
        "\n"
      ],
      "metadata": {
        "id": "UQCRGew1pEVy"
      },
      "execution_count": 55,
      "outputs": []
    },
    {
      "cell_type": "code",
      "source": [
        "#defining the loss function and calculate accuracy\n",
        "\n",
        "def loss(y_pred, y_true):\n",
        "  #setting threshold for binary classification\n",
        "  threshold = 0.5\n",
        "  for pred in y_pred:\n",
        "    if pred.data > threshold:\n",
        "      pred.data = 1\n",
        "    else:\n",
        "      pred.data = 0\n",
        "\n",
        "  #Calculating MSE\n",
        "  losses = [((yt - yp)**2) for yt, yp in zip(y_true, y_pred)]\n",
        "  data_loss = sum(losses) * (1.0 / len(losses))\n",
        "  accuracy = [(yi > threshold) == (scorei.data > threshold) for yi, scorei in zip(y_true, y_pred)]\n",
        "  acc = np.mean(accuracy)\n",
        "  return data_loss, acc\n"
      ],
      "metadata": {
        "id": "WBRRfihmwgGs"
      },
      "execution_count": 56,
      "outputs": []
    },
    {
      "cell_type": "code",
      "source": [
        "#Create an MLP model\n",
        "\n",
        "model = MLP(4, [16, 16, 1])"
      ],
      "metadata": {
        "id": "E7VheIOD0BNk"
      },
      "execution_count": 57,
      "outputs": []
    },
    {
      "cell_type": "code",
      "source": [
        "# training the model\n",
        "for k in range(25):\n",
        "\n",
        "    # forward\n",
        "    predictions = list(map(model, X_train))\n",
        "    actual_loss, acc = loss(predictions, y_train)\n",
        "\n",
        "    # backward\n",
        "    for p in model.parameters():\n",
        "        p.grad = 0.0\n",
        "    actual_loss.backward()\n",
        "\n",
        "    # update (sgd)\n",
        "    learning_rate = 0.05\n",
        "    for p in model.parameters():\n",
        "      p.data += -learning_rate * p.grad\n",
        "\n",
        "\n",
        "    print(f\"step {k} loss {actual_loss.data}, accuracy {acc*100}%\")"
      ],
      "metadata": {
        "colab": {
          "base_uri": "https://localhost:8080/"
        },
        "id": "LGuojlkg0IDb",
        "outputId": "c9b9e870-14dd-4caa-f016-c4800e2367b7"
      },
      "execution_count": 58,
      "outputs": [
        {
          "output_type": "stream",
          "name": "stdout",
          "text": [
            "running backward\n",
            "step 0 loss 0.7625000000000001, accuracy 23.75%\n",
            "running backward\n",
            "step 1 loss 0.65, accuracy 35.0%\n",
            "running backward\n",
            "step 2 loss 0.5625, accuracy 43.75%\n",
            "running backward\n",
            "step 3 loss 0.5750000000000001, accuracy 42.5%\n",
            "running backward\n",
            "step 4 loss 0.525, accuracy 47.5%\n",
            "running backward\n",
            "step 5 loss 0.4625, accuracy 53.75%\n",
            "running backward\n",
            "step 6 loss 0.30000000000000004, accuracy 70.0%\n",
            "running backward\n",
            "step 7 loss 0.21250000000000002, accuracy 78.75%\n",
            "running backward\n",
            "step 8 loss 0.15000000000000002, accuracy 85.0%\n",
            "running backward\n",
            "step 9 loss 0.125, accuracy 87.5%\n",
            "running backward\n",
            "step 10 loss 0.1, accuracy 90.0%\n",
            "running backward\n",
            "step 11 loss 0.037500000000000006, accuracy 96.25%\n",
            "running backward\n",
            "step 12 loss 0.0125, accuracy 98.75%\n",
            "running backward\n",
            "step 13 loss 0.0125, accuracy 98.75%\n",
            "running backward\n",
            "step 14 loss 0.0125, accuracy 98.75%\n",
            "running backward\n",
            "step 15 loss 0.0125, accuracy 98.75%\n",
            "running backward\n",
            "step 16 loss 0.0125, accuracy 98.75%\n",
            "running backward\n",
            "step 17 loss 0.0125, accuracy 98.75%\n",
            "running backward\n",
            "step 18 loss 0.0125, accuracy 98.75%\n",
            "running backward\n",
            "step 19 loss 0.0125, accuracy 98.75%\n",
            "running backward\n",
            "step 20 loss 0.0125, accuracy 98.75%\n",
            "running backward\n",
            "step 21 loss 0.0, accuracy 100.0%\n",
            "running backward\n",
            "step 22 loss 0.0, accuracy 100.0%\n",
            "running backward\n",
            "step 23 loss 0.0, accuracy 100.0%\n",
            "running backward\n",
            "step 24 loss 0.0, accuracy 100.0%\n"
          ]
        }
      ]
    },
    {
      "cell_type": "code",
      "source": [
        "#using test_data\n",
        "test_predictions = list(map(model, X_test))\n",
        "test_loss, test_acc = loss(test_predictions, y_test)\n",
        "print(f\"loss {test_loss.data}, accuracy {test_acc*100}%\")"
      ],
      "metadata": {
        "colab": {
          "base_uri": "https://localhost:8080/"
        },
        "id": "qfIecJ-HjJ7V",
        "outputId": "010148a3-5af6-47e5-f742-50c8b85c1b72"
      },
      "execution_count": 59,
      "outputs": [
        {
          "output_type": "stream",
          "name": "stdout",
          "text": [
            "loss 0.0, accuracy 100.0%\n"
          ]
        }
      ]
    }
  ]
}